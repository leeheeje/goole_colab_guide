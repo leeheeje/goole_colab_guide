{
  "nbformat": 4,
  "nbformat_minor": 0,
  "metadata": {
    "colab": {
      "provenance": [],
      "authorship_tag": "ABX9TyOVOK7LKP8236LrOrl/HJ5+",
      "include_colab_link": true
    },
    "kernelspec": {
      "name": "python3",
      "display_name": "Python 3"
    },
    "language_info": {
      "name": "python"
    }
  },
  "cells": [
    {
      "cell_type": "markdown",
      "metadata": {
        "id": "view-in-github",
        "colab_type": "text"
      },
      "source": [
        "<a href=\"https://colab.research.google.com/github/leeheeje/goole_colab_guide/blob/main/colab_basic_1.ipynb\" target=\"_parent\"><img src=\"https://colab.research.google.com/assets/colab-badge.svg\" alt=\"Open In Colab\"/></a>"
      ]
    },
    {
      "cell_type": "markdown",
      "source": [
        "python code 성적표"
      ],
      "metadata": {
        "id": "VMSDb0dsjnRL"
      }
    },
    {
      "cell_type": "code",
      "execution_count": 5,
      "metadata": {
        "colab": {
          "base_uri": "https://localhost:8080/"
        },
        "id": "Yp7P0VDxi_6H",
        "outputId": "4159f71d-fc38-4ad1-ec8b-2dcadd7954c5"
      },
      "outputs": [
        {
          "output_type": "stream",
          "name": "stdout",
          "text": [
            "1번째 학생 정보 입력\n",
            "이름: xczc\n",
            "국어 점수: 23\n",
            "수학 점수: 23\n",
            "과학 점수: 2\n",
            "\n",
            "2번째 학생 정보 입력\n",
            "이름: fgtg\n",
            "국어 점수: 12\n",
            "수학 점수: 2\n",
            "과학 점수: 1\n",
            "\n",
            "3번째 학생 정보 입력\n",
            "이름: vfdbzs\n",
            "국어 점수: 123\n",
            "수학 점수: 434\n",
            "과학 점수: 221\n",
            "\n",
            "4번째 학생 정보 입력\n",
            "이름: fssdf\n",
            "국어 점수: 1323\n",
            "수학 점수: 43\n",
            "과학 점수: 1\n",
            "\n",
            "5번째 학생 정보 입력\n",
            "이름: fs\n",
            "국어 점수: 23\n",
            "수학 점수: 2\n",
            "과학 점수: 1\n",
            "\n",
            "\n",
            "학생별 성적\n",
            "이름\t국어\t수학\t과학\t합계\t평균\n",
            "xczc\t23\t23\t2\t48\t16.00\n",
            "fgtg\t12\t2\t1\t15\t5.00\n",
            "vfdbzs\t123\t434\t221\t778\t259.33\n",
            "fssdf\t1323\t43\t1\t1367\t455.67\n",
            "fs\t23\t2\t1\t26\t8.67\n",
            "\n",
            "전체 과목별 평균\n",
            "국어 평균: 300.80\n",
            "수학 평균: 100.80\n",
            "과학 평균: 45.20\n"
          ]
        }
      ],
      "source": [
        "# 학생 수\n",
        "num_students = 5\n",
        "\n",
        "# 학생 정보 저장할 리스트\n",
        "students = []\n",
        "\n",
        "# 입력받기\n",
        "for i in range(num_students):\n",
        "    print(f\"{i+1}번째 학생 정보 입력\")\n",
        "    name = input(\"이름: \")\n",
        "    kor = int(input(\"국어 점수: \"))\n",
        "    math = int(input(\"수학 점수: \"))\n",
        "    sci = int(input(\"과학 점수: \"))\n",
        "    total = kor + math + sci\n",
        "    avg = total / 3\n",
        "    students.append({\n",
        "        '이름': name,\n",
        "        '국어': kor,\n",
        "        '수학': math,\n",
        "        '과학': sci,\n",
        "        '합계': total,\n",
        "        '평균': avg\n",
        "    })\n",
        "    print()\n",
        "\n",
        "# 각 학생 정보 출력\n",
        "print(\"\\n학생별 성적\")\n",
        "print(\"이름\\t국어\\t수학\\t과학\\t합계\\t평균\")\n",
        "for s in students:\n",
        "    print(f\"{s['이름']}\\t{s['국어']}\\t{s['수학']}\\t{s['과학']}\\t{s['합계']}\\t{s['평균']:.2f}\")\n",
        "\n",
        "# 전체 과목별 평균 계산\n",
        "total_kor = sum(s['국어'] for s in students)\n",
        "total_math = sum(s['수학'] for s in students)\n",
        "total_sci = sum(s['과학'] for s in students)\n",
        "\n",
        "avg_kor = total_kor / num_students\n",
        "avg_math = total_math / num_students\n",
        "avg_sci = total_sci / num_students\n",
        "\n",
        "print(\"\\n전체 과목별 평균\")\n",
        "print(f\"국어 평균: {avg_kor:.2f}\")\n",
        "print(f\"수학 평균: {avg_math:.2f}\")\n",
        "print(f\"과학 평균: {avg_sci:.2f}\")\n"
      ]
    }
  ]
}